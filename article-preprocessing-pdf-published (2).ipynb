{
 "cells": [
  {
   "cell_type": "code",
   "execution_count": 1,
   "id": "cd772af7",
   "metadata": {
    "_cell_guid": "b1076dfc-b9ad-4769-8c92-a6c4dae69d19",
    "_uuid": "8f2839f25d086af736a60e9eeb907d3b93b6e0e5",
    "execution": {
     "iopub.execute_input": "2024-07-24T22:33:48.242051Z",
     "iopub.status.busy": "2024-07-24T22:33:48.241620Z",
     "iopub.status.idle": "2024-07-24T22:33:49.206738Z",
     "shell.execute_reply": "2024-07-24T22:33:49.205110Z"
    },
    "papermill": {
     "duration": 0.97664,
     "end_time": "2024-07-24T22:33:49.209384",
     "exception": false,
     "start_time": "2024-07-24T22:33:48.232744",
     "status": "completed"
    },
    "tags": []
   },
   "outputs": [
    {
     "name": "stdout",
     "output_type": "stream",
     "text": [
      "/kaggle/input/article-ii/paget-et-al-2023-platelet-rich-plasma-injections-for-the-treatment-of-ankle-osteoarthritis.pdf\n",
      "/kaggle/input/article-1/AP_20211103_SONNERY_COTTET_Article publi.pdf\n",
      "/kaggle/input/article-iv/gebhardt-et-al-2023-the-influence-of-arthroscopic-shaver-mincing-and-platelet-rich-plasma-on-chondrocytes-of.pdf\n",
      "/kaggle/input/article-v/hollander-et-al-2019-adaptation-of-running-biomechanics-to-repeated-barefoot-running-a-randomized-controlled-study.pdf\n",
      "/kaggle/input/article-iii/bramah-et-al-2024-the-sprint-mechanics-assessment-score-a-qualitative-screening-tool-for-the-in-field-assessment-of.pdf\n",
      "/kaggle/input/synopsis-2/2024.05.29_Synopsis_v1.0_CAPSULAR_Format_HDH Old.docx\n",
      "/kaggle/input/synopsis-1/2024.06.24_Synopsis_GODENECHE_Format_HDH_VF.docx\n"
     ]
    }
   ],
   "source": [
    "# This Python 3 environment comes with many helpful analytics libraries installed\n",
    "# It is defined by the kaggle/python Docker image: https://github.com/kaggle/docker-python\n",
    "# For example, here's several helpful packages to load\n",
    "\n",
    "import numpy as np # linear algebra\n",
    "import pandas as pd # data processing, CSV file I/O (e.g. pd.read_csv)\n",
    "\n",
    "# Input data files are available in the read-only \"../input/\" directory\n",
    "# For example, running this (by clicking run or pressing Shift+Enter) will list all files under the input directory\n",
    "\n",
    "import os\n",
    "for dirname, _, filenames in os.walk('/kaggle/input'):\n",
    "    for filename in filenames:\n",
    "        print(os.path.join(dirname, filename))\n",
    "\n",
    "# You can write up to 20GB to the current directory (/kaggle/working/) that gets preserved as output when you create a version using \"Save & Run All\" \n",
    "# You can also write temporary files to /kaggle/temp/, but they won't be saved outside of the current session"
   ]
  },
  {
   "cell_type": "markdown",
   "id": "b1d68e3f",
   "metadata": {
    "papermill": {
     "duration": 0.00668,
     "end_time": "2024-07-24T22:33:49.223364",
     "exception": false,
     "start_time": "2024-07-24T22:33:49.216684",
     "status": "completed"
    },
    "tags": []
   },
   "source": [
    "# **PDF PROCESS ARTICLE**"
   ]
  },
  {
   "cell_type": "code",
   "execution_count": 2,
   "id": "58d8edf3",
   "metadata": {
    "execution": {
     "iopub.execute_input": "2024-07-24T22:33:49.239150Z",
     "iopub.status.busy": "2024-07-24T22:33:49.238632Z",
     "iopub.status.idle": "2024-07-24T22:34:05.153528Z",
     "shell.execute_reply": "2024-07-24T22:34:05.152154Z"
    },
    "papermill": {
     "duration": 15.925613,
     "end_time": "2024-07-24T22:34:05.156192",
     "exception": false,
     "start_time": "2024-07-24T22:33:49.230579",
     "status": "completed"
    },
    "tags": []
   },
   "outputs": [
    {
     "name": "stdout",
     "output_type": "stream",
     "text": [
      "Collecting pypdf2\r\n",
      "  Downloading pypdf2-3.0.1-py3-none-any.whl.metadata (6.8 kB)\r\n",
      "Downloading pypdf2-3.0.1-py3-none-any.whl (232 kB)\r\n",
      "\u001b[2K   \u001b[90m━━━━━━━━━━━━━━━━━━━━━━━━━━━━━━━━━━━━━━━\u001b[0m \u001b[32m232.6/232.6 kB\u001b[0m \u001b[31m828.5 kB/s\u001b[0m eta \u001b[36m0:00:00\u001b[0m\r\n",
      "\u001b[?25hInstalling collected packages: pypdf2\r\n",
      "Successfully installed pypdf2-3.0.1\r\n"
     ]
    }
   ],
   "source": [
    "!pip install pypdf2\n",
    "from PyPDF2 import PdfReader\n",
    "import os\n",
    "from pprint import pprint\n",
    "import re"
   ]
  },
  {
   "cell_type": "code",
   "execution_count": 3,
   "id": "99436eef",
   "metadata": {
    "execution": {
     "iopub.execute_input": "2024-07-24T22:34:05.174673Z",
     "iopub.status.busy": "2024-07-24T22:34:05.174222Z",
     "iopub.status.idle": "2024-07-24T22:34:05.184984Z",
     "shell.execute_reply": "2024-07-24T22:34:05.183873Z"
    },
    "papermill": {
     "duration": 0.023148,
     "end_time": "2024-07-24T22:34:05.187848",
     "exception": false,
     "start_time": "2024-07-24T22:34:05.164700",
     "status": "completed"
    },
    "tags": []
   },
   "outputs": [],
   "source": [
    "def PDF_PROCESS (pdf_path) :\n",
    "    \n",
    "    pages_text,Metadata,tab=extract_information2(pdf_path)\n",
    "    Textab=tab\n",
    "    label,text,start=Summary(pages_text)\n",
    "    Title,Text=CORE(pages_text,start+1)\n",
    "    SubTitle=[]\n",
    "    SubText=[]\n",
    "    for i in range (len(Title)):\n",
    "        a,b=SUBCORE(Text[i])\n",
    "        if len(a)!=0 :\n",
    "            SubTitle.append(a)\n",
    "            SubText.append(b)\n",
    "        else :\n",
    "            SubTitle.append([Title[i]])\n",
    "            SubText.append([Text[i]])\n",
    "    Content=[]\n",
    "    Titab=[]\n",
    "    for i in range (len(tab)) :\n",
    "        Content.append(INFO_TABLE(tab[i])[0:3])\n",
    "        Titab.append(INFO_TABLE(tab[i])[3])\n",
    "        \n",
    "    Parts={\n",
    "        \"SubTitle\" : SubTitle,\n",
    "        \"Text\" : SubText\n",
    "    }\n",
    "\n",
    "\n",
    "    Sum={\n",
    "        \"label\" : label,\n",
    "        \"text\" : text\n",
    "    }\n",
    "\n",
    "    Core={\n",
    "        \"Title\" : Title,\n",
    "        \"Parts\" : Parts\n",
    "    }\n",
    "\n",
    "    Table= {\n",
    "        \"Titab\" :Titab,\n",
    "        \"Content\" :Content,\n",
    "        \"Textab\" :Textab\n",
    "    }\n",
    "\n",
    "    Document = {\n",
    "        \"Metadata\": Metadata,\n",
    "        \"Sum\": Sum,\n",
    "        \"Core\": Core,\n",
    "        \"Table\": Table\n",
    "    }\n",
    "    return(Document)\n",
    "\n"
   ]
  },
  {
   "cell_type": "code",
   "execution_count": 4,
   "id": "a46c0743",
   "metadata": {
    "execution": {
     "iopub.execute_input": "2024-07-24T22:34:05.206377Z",
     "iopub.status.busy": "2024-07-24T22:34:05.205307Z",
     "iopub.status.idle": "2024-07-24T22:34:05.213489Z",
     "shell.execute_reply": "2024-07-24T22:34:05.212366Z"
    },
    "papermill": {
     "duration": 0.020096,
     "end_time": "2024-07-24T22:34:05.215930",
     "exception": false,
     "start_time": "2024-07-24T22:34:05.195834",
     "status": "completed"
    },
    "tags": []
   },
   "outputs": [],
   "source": [
    "def extract_information2(pdf_path):\n",
    "    with open(pdf_path, 'rb') as f:\n",
    "        reader = PdfReader(f)\n",
    "        meta = reader.metadata\n",
    "        number_of_pages = len(reader.pages)    \n",
    "        pages_text = []\n",
    "        for n in range(number_of_pages):\n",
    "            page = reader.pages[n]\n",
    "            pages_text.append('\\n'+page.extract_text())\n",
    "    metadata = f\"\"\"\n",
    "    Information about {pdf_path}: \n",
    "\n",
    "    Author: {meta.author}\n",
    "    Creator: {meta.creator}\n",
    "    Producer: {meta.producer}\n",
    "    Subject: {meta.subject}\n",
    "    Title: {meta.title}\n",
    "    Number of pages: {number_of_pages}\n",
    "    \"\"\"\n",
    "    g=re.compile('TABLE ')\n",
    "    print(metadata)\n",
    "    bel,tab,pages_text=EXTRACT_TABLE2 (pages_text)\n",
    "    return(pages_text,metadata,tab)"
   ]
  },
  {
   "cell_type": "code",
   "execution_count": 5,
   "id": "e5a6dabd",
   "metadata": {
    "execution": {
     "iopub.execute_input": "2024-07-24T22:34:05.234500Z",
     "iopub.status.busy": "2024-07-24T22:34:05.233302Z",
     "iopub.status.idle": "2024-07-24T22:34:05.241969Z",
     "shell.execute_reply": "2024-07-24T22:34:05.240737Z"
    },
    "papermill": {
     "duration": 0.020476,
     "end_time": "2024-07-24T22:34:05.244738",
     "exception": false,
     "start_time": "2024-07-24T22:34:05.224262",
     "status": "completed"
    },
    "tags": []
   },
   "outputs": [],
   "source": [
    "def EXTRACT_TABLE2 (pages_text) :\n",
    "    i=0\n",
    "    n=len(pages_text)\n",
    "    res=[]\n",
    "    label=[]\n",
    "    p=re.compile('TABLE [0-9]\\n')\n",
    "    d=re.compile('([0-9]\\n[^012345789]{40,100})|(TABLE [0-9]\\n)')\n",
    "    while i<n :\n",
    "        pos=p.search(pages_text[i])\n",
    "        if pos!=None :\n",
    "            label.append(pages_text[i][pos.start():pos.end()])\n",
    "            dos=d.search(pages_text[i][pos.end():])\n",
    "            res.append(pages_text[i][pos.end():pos.end()+dos.start()])\n",
    "            pages_text[i]=pages_text[i][:pos.start()]+pages_text[i][pos.end()+dos.start():]\n",
    "        else :\n",
    "            i+=1\n",
    "    return(label,res,pages_text)"
   ]
  },
  {
   "cell_type": "code",
   "execution_count": 6,
   "id": "78ed8c27",
   "metadata": {
    "execution": {
     "iopub.execute_input": "2024-07-24T22:34:05.262511Z",
     "iopub.status.busy": "2024-07-24T22:34:05.262117Z",
     "iopub.status.idle": "2024-07-24T22:34:05.274237Z",
     "shell.execute_reply": "2024-07-24T22:34:05.273098Z"
    },
    "papermill": {
     "duration": 0.023836,
     "end_time": "2024-07-24T22:34:05.276755",
     "exception": false,
     "start_time": "2024-07-24T22:34:05.252919",
     "status": "completed"
    },
    "tags": []
   },
   "outputs": [],
   "source": [
    "def CORE(pages_text,start) :\n",
    "    res=[]\n",
    "    label=[\"INTRODUCTION\"]\n",
    "    n=len(pages_text)\n",
    "    i=0\n",
    "    rep=0\n",
    "    p=re.compile('([A-Z]{6,}\\n)|(ORCID iDs)')\n",
    "    Prems=0\n",
    "    while i<n :\n",
    "        pos=p.search(pages_text[i][rep:])\n",
    "        if Prems==0 and pos!=None :\n",
    "            doc=pages_text[0][start:]\n",
    "            for l in range (i-1):\n",
    "                doc+=pages_text[l]\n",
    "            doc+=pages_text[i][:pos.start()+rep]\n",
    "            Prems=1\n",
    "            res.append(doc)\n",
    "        if pos!=None :\n",
    "            label.append(pages_text[i][pos.start()+rep:pos.end()+rep])\n",
    "            start=pos.end()+rep\n",
    "            rep=start\n",
    "            j=i\n",
    "            while(j<n) :\n",
    "                pos=p.search(pages_text[j][rep*(i==j):])\n",
    "                if pos!=None :\n",
    "                    end=pos.start()+rep*(i==j)\n",
    "                    doc=''\n",
    "                    k=j-i\n",
    "                    doc+=pages_text[i][start-1:(i==j)*(end-1)+(i!=j)*(len(pages_text[i]))]\n",
    "                    for l in range(k-1) :\n",
    "                        doc+=pages_text[i+l+1]\n",
    "                    doc+=pages_text[j][:(end-1)*(i!=j)]\n",
    "                    res.append(doc)\n",
    "                    j=n+1\n",
    "                j+=1\n",
    "            if j==n :\n",
    "                doc=pages_text[i][start:]\n",
    "                for l in range(n-1-i) :\n",
    "                    doc+=pages_text[i+l+1]\n",
    "                res.append(doc)\n",
    "                i=n\n",
    "        else :\n",
    "            i+=1\n",
    "            rep=0\n",
    "    return (label,res)"
   ]
  },
  {
   "cell_type": "code",
   "execution_count": 7,
   "id": "0c4b8510",
   "metadata": {
    "execution": {
     "iopub.execute_input": "2024-07-24T22:34:05.294553Z",
     "iopub.status.busy": "2024-07-24T22:34:05.294013Z",
     "iopub.status.idle": "2024-07-24T22:34:05.302706Z",
     "shell.execute_reply": "2024-07-24T22:34:05.301478Z"
    },
    "papermill": {
     "duration": 0.020259,
     "end_time": "2024-07-24T22:34:05.305028",
     "exception": false,
     "start_time": "2024-07-24T22:34:05.284769",
     "status": "completed"
    },
    "tags": []
   },
   "outputs": [],
   "source": [
    "def Summary(pages_text) :\n",
    "    Marks = ['Background:', 'Purpose/Hypothesis:','Purpose:','Hypothesis:','Study Design:','Methods', 'Results:',  'Conclusion:', 'Registration:','Keywords:','\\n']\n",
    "    res=[]\n",
    "    label=[]\n",
    "    for i in range (len(Marks)-1) :\n",
    "        p=re.compile(Marks[i])\n",
    "        pos=p.search(pages_text[0])\n",
    "        if pos!=None :\n",
    "            start=pos.end()\n",
    "            label.append(Marks[i])\n",
    "            j=int(1)\n",
    "            while(j<len(Marks)) :\n",
    "                p=re.compile(Marks[i+j])\n",
    "                pos=p.search(pages_text[0][start:])\n",
    "                if pos!=None :\n",
    "                    end=pos.start()\n",
    "                    res.append(pages_text[0][start:start + end-1])\n",
    "                    j=len(Marks)\n",
    "                j+=1\n",
    "    return (label,res,start + end)"
   ]
  },
  {
   "cell_type": "code",
   "execution_count": 8,
   "id": "0dc262cc",
   "metadata": {
    "execution": {
     "iopub.execute_input": "2024-07-24T22:34:05.323316Z",
     "iopub.status.busy": "2024-07-24T22:34:05.322894Z",
     "iopub.status.idle": "2024-07-24T22:34:05.330918Z",
     "shell.execute_reply": "2024-07-24T22:34:05.329609Z"
    },
    "papermill": {
     "duration": 0.02044,
     "end_time": "2024-07-24T22:34:05.333840",
     "exception": false,
     "start_time": "2024-07-24T22:34:05.313400",
     "status": "completed"
    },
    "tags": []
   },
   "outputs": [],
   "source": [
    "def SUBCORE(par) :\n",
    "    res=[]\n",
    "    label=['Introduction']\n",
    "    p=re.compile('\\n((?!Journal)[A-Z][\\-a-z\\, ]{1,20}\\s*){1,}\\n')\n",
    "    pos=p.search(par)\n",
    "    prems=0\n",
    "    while pos!=None :\n",
    "        prems+=1\n",
    "        res.append(par[:pos.start()])\n",
    "        label.append(par[pos.start():pos.end()])\n",
    "        par=par[pos.end():]\n",
    "        pos=p.search(par)   \n",
    "    res.append(par)\n",
    "    if prems==0 :\n",
    "        label=['Text Body']\n",
    "    return (label,res)"
   ]
  },
  {
   "cell_type": "code",
   "execution_count": 9,
   "id": "b324526e",
   "metadata": {
    "execution": {
     "iopub.execute_input": "2024-07-24T22:34:05.351987Z",
     "iopub.status.busy": "2024-07-24T22:34:05.351603Z",
     "iopub.status.idle": "2024-07-24T22:34:05.362604Z",
     "shell.execute_reply": "2024-07-24T22:34:05.361188Z"
    },
    "papermill": {
     "duration": 0.023067,
     "end_time": "2024-07-24T22:34:05.365158",
     "exception": false,
     "start_time": "2024-07-24T22:34:05.342091",
     "status": "completed"
    },
    "tags": []
   },
   "outputs": [],
   "source": [
    "def INFO_TABLE (tab) :\n",
    "        p=re.compile('[A-Z][a-z]{1,20}\\s(\\(*[A-Z][a-z\\) ]{1,40}){1,}\\n')\n",
    "        pos=p.search(tab)\n",
    "        titre = tab[pos.start():pos.end()]\n",
    "        tab=tab[pos.end():]\n",
    "        p=re.compile('([A-Z][a-z ]{1,40}){1,}[Nn=0-9\\( ]*[\\)\\n]+')\n",
    "        r=re.compile('\\n')\n",
    "        dos=r.search(tab)\n",
    "        tabtit=tab[:dos.end()]\n",
    "        tab=tab[dos.end():]\n",
    "        pos = p.search(tabtit)\n",
    "        Head=[]\n",
    "        Line=[]\n",
    "        nb=[]\n",
    "        while pos!=None :\n",
    "            Head.append(tabtit[pos.start():pos.end()])\n",
    "            tabtit=tabtit[pos.end():]\n",
    "            pos=p.search(tabtit)   \n",
    "        p=re.compile('[0-9]')\n",
    "        pos=p.search(tab)        \n",
    "        while pos!=None :\n",
    "            Line.append(tab[:pos.start()])\n",
    "            tab=tab[pos.start():]\n",
    "            p=re.compile('[A-Z\\n]')\n",
    "            pos=p.search(tab)\n",
    "            if pos!=None :\n",
    "                nb.append(EXTRACT_LINE(tab[:pos.start()],Head))\n",
    "                tab=tab[pos.start():]\n",
    "            else :\n",
    "                nb.append(EXTRACT_LINE(tab,Head))\n",
    "                tab=''\n",
    "            p=re.compile('[0-9\\.\\(\\) ]{5,}')\n",
    "            pos=p.search(tab)\n",
    "        return(Head,Line,nb,titre)"
   ]
  },
  {
   "cell_type": "code",
   "execution_count": 10,
   "id": "c0435cfe",
   "metadata": {
    "execution": {
     "iopub.execute_input": "2024-07-24T22:34:05.383547Z",
     "iopub.status.busy": "2024-07-24T22:34:05.383033Z",
     "iopub.status.idle": "2024-07-24T22:34:05.393489Z",
     "shell.execute_reply": "2024-07-24T22:34:05.392345Z"
    },
    "papermill": {
     "duration": 0.022936,
     "end_time": "2024-07-24T22:34:05.396010",
     "exception": false,
     "start_time": "2024-07-24T22:34:05.373074",
     "status": "completed"
    },
    "tags": []
   },
   "outputs": [],
   "source": [
    "def EXTRACT_LINE(line,Head) :\n",
    "    d=re.compile('[0-9]')\n",
    "    pos=d.search(line)\n",
    "    line=line[pos.start():]\n",
    "    p=re.compile('\\s')    \n",
    "    pos=p.search(line)\n",
    "    nb=[]\n",
    "    while pos!=None :\n",
    "        nb.append(line[:pos.start()])\n",
    "        line=line[pos.end():]\n",
    "        pos=p.search(line)\n",
    "    if d.search(line)!=None :    \n",
    "        nb.append(line)\n",
    "    n=len(nb)\n",
    "    res=[]\n",
    "    if n == len(Head)*2 :\n",
    "        for i in range (n//2) :\n",
    "            if nb[2*i+1][0]=='(' :\n",
    "                res.append(nb[2*i]+nb[2*i+1])\n",
    "            else :\n",
    "                res.append(nb[2*i]+'+-'+nb[2*i+1][1:])\n",
    "    elif n==len(Head)*2-1 :\n",
    "        for i in range (n//2) :\n",
    "            if nb[2*i+1][0]=='(' :\n",
    "                res.append(nb[2*i]+nb[2*i+1])\n",
    "            else :\n",
    "                res.append(nb[2*i]+'+-'+nb[2*i+1][1:])\n",
    "        res.append(nb[n-1])\n",
    "    else :\n",
    "        res=nb\n",
    "    return(res)\n"
   ]
  },
  {
   "cell_type": "code",
   "execution_count": 11,
   "id": "345a13fa",
   "metadata": {
    "collapsed": true,
    "execution": {
     "iopub.execute_input": "2024-07-24T22:34:05.415846Z",
     "iopub.status.busy": "2024-07-24T22:34:05.415365Z",
     "iopub.status.idle": "2024-07-24T22:34:05.762587Z",
     "shell.execute_reply": "2024-07-24T22:34:05.761460Z"
    },
    "jupyter": {
     "outputs_hidden": true
    },
    "papermill": {
     "duration": 0.359337,
     "end_time": "2024-07-24T22:34:05.765140",
     "exception": false,
     "start_time": "2024-07-24T22:34:05.405803",
     "status": "completed"
    },
    "tags": []
   },
   "outputs": [
    {
     "name": "stdout",
     "output_type": "stream",
     "text": [
      "\n",
      "    Information about /kaggle/input/article-v/hollander-et-al-2019-adaptation-of-running-biomechanics-to-repeated-barefoot-running-a-randomized-controlled-study.pdf: \n",
      "\n",
      "    Author: Karsten Hollander, Dominik Liebl, Stephanie Meining, Klaus Mattes, Steffen Willwacher, and Astrid Zech\n",
      "    Creator: C&M\n",
      "    Producer: Acrobat Distiller 8.0.0 (Windows); modified using iText 4.2.0 by 1T3XT\n",
      "    Subject: Am J Sports Med 2019.47:1975-1983\n",
      "    Title: Adaptation of Running Biomechanics to Repeated Barefoot Running: A Randomized Controlled Study\n",
      "    Number of pages: 9\n",
      "    \n"
     ]
    }
   ],
   "source": [
    "Document=PDF_PROCESS(\"/kaggle/input/article-v/hollander-et-al-2019-adaptation-of-running-biomechanics-to-repeated-barefoot-running-a-randomized-controlled-study.pdf\")"
   ]
  },
  {
   "cell_type": "code",
   "execution_count": 12,
   "id": "47cc85a5",
   "metadata": {
    "collapsed": true,
    "execution": {
     "iopub.execute_input": "2024-07-24T22:34:05.783258Z",
     "iopub.status.busy": "2024-07-24T22:34:05.782363Z",
     "iopub.status.idle": "2024-07-24T22:34:05.788533Z",
     "shell.execute_reply": "2024-07-24T22:34:05.787500Z"
    },
    "jupyter": {
     "outputs_hidden": true
    },
    "papermill": {
     "duration": 0.017691,
     "end_time": "2024-07-24T22:34:05.790892",
     "exception": false,
     "start_time": "2024-07-24T22:34:05.773201",
     "status": "completed"
    },
    "tags": []
   },
   "outputs": [
    {
     "name": "stdout",
     "output_type": "stream",
     "text": [
      "PART : Study Design:\n",
      "CONTENT :  Controlled laboratory study.\n"
     ]
    }
   ],
   "source": [
    "print(\"PART :\", Document[\"Sum\"][\"label\"][3])\n",
    "print(\"CONTENT :\",Document[\"Sum\"][\"text\"][3])"
   ]
  },
  {
   "cell_type": "code",
   "execution_count": 13,
   "id": "3c629cb6",
   "metadata": {
    "collapsed": true,
    "execution": {
     "iopub.execute_input": "2024-07-24T22:34:05.808672Z",
     "iopub.status.busy": "2024-07-24T22:34:05.808186Z",
     "iopub.status.idle": "2024-07-24T22:34:05.814627Z",
     "shell.execute_reply": "2024-07-24T22:34:05.813562Z"
    },
    "jupyter": {
     "outputs_hidden": true
    },
    "papermill": {
     "duration": 0.018108,
     "end_time": "2024-07-24T22:34:05.817012",
     "exception": false,
     "start_time": "2024-07-24T22:34:05.798904",
     "status": "completed"
    },
    "tags": []
   },
   "outputs": [
    {
     "name": "stdout",
     "output_type": "stream",
     "text": [
      "PART : METHODS\n",
      "\n",
      "SUBPART : \n",
      "Study Design\n",
      "\n",
      "CONTENT : This study was a prospective 3-arm randomized single-\n",
      "blinded controlled study over 8 weeks, that was approvedby the local ethics committee (pr otocol ID37). All participants\n",
      "granted their informed consent. Reporting of this study\n",
      "adhered to the CONSORT statement\n",
      "31(Consolidated Stand-\n",
      "ards of Reporting Trials), and it was prospectively registeredin the German Clinical Trial Register (DRKS00011073).\n"
     ]
    }
   ],
   "source": [
    "print(\"PART :\", Document[\"Core\"][\"Title\"][1])\n",
    "print(\"SUBPART :\",Document[\"Core\"][\"Parts\"][\"SubTitle\"][1][1])\n",
    "print(\"CONTENT :\",Document[\"Core\"][\"Parts\"][\"Text\"][1][1])"
   ]
  },
  {
   "cell_type": "code",
   "execution_count": 14,
   "id": "80ee6696",
   "metadata": {
    "execution": {
     "iopub.execute_input": "2024-07-24T22:34:05.835009Z",
     "iopub.status.busy": "2024-07-24T22:34:05.834628Z",
     "iopub.status.idle": "2024-07-24T22:34:05.840361Z",
     "shell.execute_reply": "2024-07-24T22:34:05.839268Z"
    },
    "papermill": {
     "duration": 0.018131,
     "end_time": "2024-07-24T22:34:05.843361",
     "exception": false,
     "start_time": "2024-07-24T22:34:05.825230",
     "status": "completed"
    },
    "tags": []
   },
   "outputs": [
    {
     "name": "stdout",
     "output_type": "stream",
     "text": [
      "First Table : Pretest Data and Statistics for Barefoot and Shod Running Conditionsa\n",
      "\n",
      "First Table : (['Value\\n'], ['Foot strike index ', '\\nAngle at ground contact\\nAnkle –', '\\nFoot –', '\\nKnee'], [['0.27', '(0.24)', '0.07', '(0.05)', '\\\\.001'], ['4.0', '(11.0)', '–12.0', '(4.3)', '\\\\.001'], ['12.2', '(8.32)', '–22.4', '(4.5)', '\\\\.001'], ['8.7', '(6.0)', '6.2', '(6.1)', '\\\\.00']])\n"
     ]
    }
   ],
   "source": [
    "print(\"First Table :\", Document[\"Table\"][\"Titab\"][0])\n",
    "print(\"First Table :\",Document[\"Table\"][\"Content\"][0])\n"
   ]
  },
  {
   "cell_type": "code",
   "execution_count": 15,
   "id": "cce6ec58",
   "metadata": {
    "collapsed": true,
    "execution": {
     "iopub.execute_input": "2024-07-24T22:34:05.861609Z",
     "iopub.status.busy": "2024-07-24T22:34:05.861190Z",
     "iopub.status.idle": "2024-07-24T22:34:06.233492Z",
     "shell.execute_reply": "2024-07-24T22:34:06.232244Z"
    },
    "jupyter": {
     "outputs_hidden": true
    },
    "papermill": {
     "duration": 0.386088,
     "end_time": "2024-07-24T22:34:06.237812",
     "exception": false,
     "start_time": "2024-07-24T22:34:05.851724",
     "status": "completed"
    },
    "tags": []
   },
   "outputs": [
    {
     "name": "stdout",
     "output_type": "stream",
     "text": [
      "\n",
      "    Information about /kaggle/input/article-1/AP_20211103_SONNERY_COTTET_Article publi.pdf: \n",
      "\n",
      "    Author: Charles Pioger, Lampros Gousopoulos, Graeme P. Hopper, Thais Dutra Vieira, Joao Pedro Campos, Abdo El Helou, Corentin Philippe, Adnan Saithna, and Bertrand Sonnery-Cottet\n",
      "    Creator: C&M\n",
      "    Producer: Acrobat Distiller 8.0.0 (Windows); modified using iText 4.2.0 by 1T3XT\n",
      "    Subject: Am J Sports Med 0.0:03635465221128261\n",
      "    Title: Clinical Outcomes After Combined ACL and Anterolateral Ligament Reconstruction Versus Isolated ACL Reconstruction With Bone–Patellar Tendon–Bone Grafts: A Matched-Pair Analysis of 2018 Patients From the SANTI Study Group\n",
      "    Number of pages: 9\n",
      "    \n",
      "['\\nClinical Outcomes After Combined ACL\\nand Anterolateral Ligament ReconstructionVersus Isolated ACL Reconstruction WithBone–Patellar Tendon–Bone Grafts\\nA Matched-Pair Analysis of 2018 Patients\\nFrom the SANTI Study Group\\nCharles Pioger, *MD , Lampros Gousopoulos, *MD, Graeme P. Hopper,yMD ,\\nThais Dutra Vieira, *zMD , Joao Pedro Campos, *MD, Abdo El Helou, *MD,\\nCorentin Philippe, *MD, Adnan Saithna,§MD , and Bertrand Sonnery-Cottet, *MD\\nInvestigation performed at Centre Orthopedique Santy, Lyon, France\\nBackground: Bone–patellar tendon–bone (BPTB) autografts are widely considered the standard for anterior cruciate ligament\\nreconstruction (ACLR).\\nPurpose/Hypothesis: The aims of this study were to compare the clinical outcomes after ACLR with gold standard BPTB auto-\\ngrafts versus combined ACLR 1anterolateral ligament reconstruction (ALLR) with hamstring tendon (HT) autografts at medium-\\nterm follow-up in a large series of propensity-matched patients. The hypothesis was that combined ACLR 1ALLR with HT auto-\\ngrafts would result in lower graft rupture rates and non–graft rupture-related reoperation rates.\\nStudy Design: Cohort study; Level of evidence, 3.\\nMethods: Patients undergoing combined ACLR 1ALLR using HT autografts between January 2003 and December 2019 were\\npropensity matched in a 1:1 ratio to patients undergoing isolated ACLR using BPTB autografts. At the end of the study period,graft ruptures, contralateral knee injuries, and any other reoperations or complications after the index procedure were identified\\nby a search of a prospective database and a review of medical records.\\nResults: A total of 1009 matched pairs were included. The mean duration of follow-up was 101.3 659.9 months. Patients in the\\nisolated group were .3-fold more likely to have graft failure than those in the combined group (hazard ratio, 3.554 [95% CI, 1.744-\\n7.243]; P= .0005). Patients aged \\\\20 years were at a particularly high risk of graft ruptures compared with patients aged .30\\nyears (hazard ratio, 5.650 [95% CI, 1.834-17.241]; P= .0002). Additionally, there was a significantly higher reoperation rate after\\nisolated ACLR than after combined ACLR 1ALLR (20.5% vs 8.9%, respectively; P\\\\.0001). The overall rate of subsequent con-\\ntralateral ruptures was 9.1% after index surgery (isolated: 10.2%; combined: 8.0%; P= .0934), indicating that the risk profiles for\\nboth groups were similar.\\nConclusion: Patients who underwent isolated ACLR with BPTB autografts experienced significantly worse graft survivorship and\\noverall reoperation-free survivorship compared with those who underwent combined ACLR 1ALLR with HT autografts. The risk\\nof graft ruptures was .3-fold higher in patients who underwent isolated ACLR using BPTB autografts.\\nKeywords: ACL reconstruction; anterolateral ligament reconstruction; lateral extra-articular procedures; long-term follow-up\\nBone–patellar tendon–bone (BPTB) autografts have widely\\nbeen considered the standard for anterior cruciate liga-ment (ACL) reconstruction (ACLR), particularly in the\\nUnited States, and especially for high-demand athleticpatients at an increased risk of graft ruptures. Historical\\nsurveys of National Football League, National CollegiateAthletic Association, Major League Soccer, and National\\nBasketball Association team physicians have all demon-\\nstrated a strong preference for BPTB grafts.\\n11,12,27This\\npreference appears to hold true in contemporary practicebecause a 2018 survey of members of the AOSSM and\\nthe Arthroscopy Association of North America also\\nreported a significant and continued preference for BPTBThe American Journal of Sports Medicine\\n1–9DOI: 10.1177/03635465221128261/C2112022 The Author(s)\\n1\\n', '\\ngrafts in younger, pivoting athletes.5These findings do not\\nreflect overall practice patterns within the United States\\nor global trends. In contrast, similar surveys conducted\\nin Australia and Brazil have demonstrated a preferencefor hamstring tendon (HT) grafts over BPTB grafts in pro-\\nfessional athletes.\\n2,23Furthermore, a systematic review of\\nrecent national surveys19(including 8 countries from\\nEurope, Asia, North America, and Latin America) demon-strated a current preference for HT grafts in each of the\\nincluded countries (45%-95% of the clinicians surveyed).\\nA historical perspective on these changing practice pat-terns was provided by the ACL Study Group, who reported\\nthat although BPTB grafts were clearly favored in the\\n1990s and early 2000s, HT autografts are now more fre-quently utilized by its membership than BPTB grafts and\\nhave been since around 2008.\\n3Possible reasons for this\\ntrend include the failure of several meta-analyses toshow clinically important advantages of one graft type\\nover the other with respect to knee stability, patient-\\nreported outcome scores, or graft rupture rates, coupledwith concerns about higher rates of osteoarthritis, exten-sion deficits, and donor-site morbidity with BPTB grafts.\\nDespite the obvious challenges posed for BPTB grafts by\\nglobal practice patterns, it is our opinion that thereremains a somewhat dogmatic belief that BPTB grafts\\nare associated with better knee stability and lower rates\\nof graft ruptures than HT grafts as well as with better clin-ical results in young, high-demand athletic patients. How-\\never, this has not been evidenced by meta-analyses, and\\nany statistically significant differences are likely to besmall. In contrast, significantly reduced graft rupturerates have been reported in young patients\\n22participating\\nin pivoting sports with combined ACLR 1anterolateral\\nligament (ALL) reconstruction (ALLR) using HT auto-grafts to create a single graft construct for both reconstruc-\\ntion procedures. This suggests that the former might be\\na better graft choice than the established standard. Limita-tions of that study included its retrospective and non-\\nmatched design. There remains a belief that lateral\\nextra-articular procedures may only be necessary withsoft tissue ACL grafts and that they do not confer an\\nimportant advantage when added to BPTB grafts.\\n30\\nThe aims of this study were to compare the clinical out-\\ncomes after ACLR with gold standard BPTB autografts ver-sus combined ACLR 1ALLR with HT autografts at\\nmedium-term follow-up in a large series of propensity-\\nmatched patients. The hypothesis was that combined ACLR\\n1ALLR with HT autografts would have lower graft rupture\\nrates and non–graft rupture-related reoperation rates.METHODS\\nStudy Design and Participants\\nInstitutional review board approval (COS-RGDS-2022-03-\\n002-SONNERY COTTET-B) was granted for this study.A retrospective analysis of prospectively collected data\\nfrom the Santy database was performed. Patients who\\nunderwent either isolated ACLR with BPTB autograftsor combined ACLR 1ALLR using HT autografts, per-\\nformed between January 2003 and December 2019, were\\neligible for the study. The diagnosis of an ACL graft rup-ture was made based on a clinical examination and mag-netic resonance imaging. The indications for combined\\nreconstruction (ACLR 1ALLR) increased over the study\\nperiod and included a high-grade pivot shift, chronic inju-ries, hyperlaxity, and young patients participating in piv-\\noting sports.\\n43Patients were excluded only if they\\nunderwent double-bundle ACLR, underwent major con-comitant procedures (including multiligament reconstruc-\\ntion or osteotomy), or did not have a minimum 2-year\\nfollow-up.\\nSurgical Technique\\nAll surgical procedures were performed by the senior\\nauthor (B.S.-C.) in accordance with previously published\\ndescriptions, as summarized in the following sections. Allpatients were placed in a supine position with the knee\\nflexed to 90 /C176. A lateral support, foot roll, and tourniquet\\nwere utilized. Arthroscopic inspection of the knee andmeniscal surgery were performed before ACLR.\\nIsolated ACLR With BPTB Graft. A 10-mm BPTB graft\\nwas harvested with a 9 315–mm patellar bone plug and\\nan 11 320–mm tibial bone plug. The femoral tunnel\\nwas drilled in an outside-in fashion. The graft was passed\\nthrough the femoral tunnel in an antegrade fashion. The\\ngraft was fixed in the femoral tunnel using a press-fit tech-nique and then fixed in the tibial tunnel with the knee\\nflexed at 30 /C176using an interference screw (BioComposite\\ninterference screw; Arthrex).\\n17\\nCombined ACLR 1ALLR With HT Graft. The semiten-\\ndinosus and gracilis tendons were harvested using an\\nopen-ended tendon stripper. The tibial insertion was pre-\\nserved to improve fixation and vascularity.32,47A combined\\n4-strand ACL graft and single-strand ALL graft was pre-\\npared using a tripled semitendinosus tendon with an addi-\\ntional length of gracilis tendon sutured to it. A single\\nzAddress correspondence to Thais Dutra Vieira, MD, Centre Orthopedique Santy, Ho ˆpital Prive ´Jean Mermoz, Groupe GDS-Ramsay, 24 Avenue Paul\\nSanty, 69008 Lyon, France (email: thaisdutravieira@hotmail.com).\\n*Centre Orthopedique Santy, Ho ˆpital Prive ´Jean Mermoz, Groupe GDS-Ramsay, Lyon, France.\\nySouth Glasgow University Hospitals NHS Trust, NHS Greater Glasgow and Clyde, Glasgow, UK.\\n§Arizona Brain and Spine Center, Scottsdale, Arizona, USA.\\nSubmitted April 11, 2022; accepted July 20, 2022.\\nOne or more of the authors has declared the following potential conflict of interest or source of funding: Arthrex pays grants to the fellows involved i n this\\narticle. Groupe GDS-Ramsay funds scientific activity at Centre Orthopedique Santy. G.P.H. has received a fellowship grant from Arthrex. B.S.-C. ha s\\nreceived consulting fees and royalties from Arthrex. AOSSM checks author disclosures against the Open Payments Database (OPD). AOSSM has not con-ducted an independent investigation on the OPD and disclaims any liability or responsibility relating thereto.2Pioger et al The American Journal of Sports Medicine', '\\nfemoral tunnel was drilled in an outside-in fashion. Intra-\\narticularly, this was placed in a mid–anteromedial bundle\\nposition; laterally, it was positioned at the femoral origin\\nof the ALL (proximal and posterior to the lateral epicon-dyle). The ACL portion of the graft (3-part semitendinosus\\ntendon and 1-part gracilis tendon) was fixed on both sides\\nusing bioabsorbable screws (BioComposite interferencescrew) with the knee flexed to 30 /C176. The additional length\\nof gracilis tendon that emerged from the femoral tunnel at\\nthe lateral cortex formed the ALL portion of the graft.\\nThis was passed under the iliotibial band using a suturegrasper, through a tunnel in the proximal tibia, and then\\nback to the ALL origin, where it was tensioned and fixed\\nwith the knee in extension, completing anatomic ALLR (Fig-ure 1).\\n36\\nPostoperative Rehabilitation Protocol\\nAll patients participated in the same rehabilitation pro-\\ngram regardless of the surgical technique. This consisted\\nof brace-free, immediate full weightbearing and progres-sive range of motion exercises, with a restriction in range\\nof motion from 0 /C176to 90 /C176for 6 weeks for patients who under-\\nwent meniscal repair. Early rehabilitation focused on:abolishing the effects of arthrogenic muscle inhibition;\\nquadriceps activation and; maintaining full extension.\\nReturn to sports was allowed at 4 months for nonpivotingsports, 6 months for pivoting noncontact sports, and 8 to9 months for pivoting contact sports.\\nFollow-up and Data Collection\\nAll patients were reviewed by the surgical team or a sportsmedicine physician at 3 and 6 weeks and at 3, 6, 12, and 24months. The physical examination included the Lachmantest and an evaluation of anteroposterior side-to-side laxity\\ndifferences measured using a Rolimeter (Aircast).\\nThe study end date was set to January 1, 2022. The final\\nfollow-up for each patient was defined as the last follow-up\\nbefore this date, as recorded in prospectively collected data\\nfrom the Santy database. Patient notes were reviewed byan investigator (L.G., A.E.H. or C.Ph.), independent of\\nthe primary surgeons, to determine if any patient had sus-\\ntained a further ipsilateral knee injury, sustained a contra-lateral knee injury, had undergone any reoperations, or\\nhad any complications after the index procedure. Key\\ndemographics and additional secondary surgery were alsodocumented.\\nPropensity Score Matching\\nPropensity score matching was undertaken to mitigate the\\neffects of any possible treatment selection bias and allow\\nthe creation of 2 groups (isolated and combined groups)in which confounding factors were balanced. A propensityscore was determined for each patient based on the follow-\\ning criteria: age at the time of surgery ( \\\\20, 20-30, or .30\\nyears), sex, body mass index according to the World HealthOrganization classification,\\n31participation in pivoting\\nsports, participation in contact sports, and preinjury\\nTegner score. After this, patients who underwent combinedACLR 1ALLR with HT autografts were individually\\nmatched with patients who underwent isolated ACLR\\nwith BPTB autografts according to the closest correspond-ing propensity score (Mahalanobis distance).\\n28After\\nmatching, the standardized difference was calculated as\\nthe difference in the proportions of each level of the covari-\\nate or means divided by the pooled standard deviations. Ifthe absolute standardized difference was greater than\\na prespecified threshold value (0.2), then an imbalance\\nfor the covariate was indicated.\\nStatistical Analysis\\nDescriptive data analysis was conducted depending on thenature of the considered criteria. For qualitative data, thisincluded the number of filled and missing data and, foreach modality, the frequency and percentage. Proportions\\nwere estimated with their exact 95% CIs when appropri-\\nate. Comparisons of data were made using the chi-square\\nFigure 1. Combined anterior cruciate ligament and antero-\\nlateral ligament reconstruction with a hamstring tendon graft.\\n(From Rosenstiel N, Praz C, Ouanezar H, et al. Combinedanterior cruciate and anterolateral ligament reconstructionin the professional athlete: clinical outcomes from the Scien-\\ntific Anterior Cruciate Ligament Network International Study\\nGroup in a series of 70 patients with a minimum follow-upof 2 years. Arthroscopy . 2019;35(3):885- 892. Reprinted\\nwith permission from Elsevier /C2112019.)AJSM Vol. XX, No. X, XXXX ACLR 1ALLR Versus ACLR With BPTB Grafts 3', '\\nor Fisher exact test according to the expected values under\\nthe assumption of independence. Comparisons of paireddata were made using the McNemar test. For quantitative\\ndata, this included the number of filled and missing data,\\narithmetic mean, standard deviation, median, interquar-tile range, and range. Comparisons of data were made\\nusing the Student ttest or Mann-Whitney-Wilcoxon test,\\ndepending on the distribution of the variable of interest.Comparisons of paired data were made using the Studentttest (parametric test) or Wilcoxon test (nonparametric\\ntest), depending on the distribution of the variable of inter-\\nest. Statistical significance was set at P\\\\.05. All analyses\\nwere performed with SAS for Windows (Version 9.4; SAS\\nInstitute).\\nRESULTS\\nPatient Demographics and Clinical Characteristics\\nA total of 6293 patients underwent primary ACLR during\\nthe study period. After the application of exclusion criteria,\\n3160 patients were identified as potentially eligible for\\nfinal inclusion (1017 isolated and 2143 combined). Everypatient from the isolated group was propensity matched\\nto a single best-matched patient from the combined group\\n(Figure 2).\\nTable 1 demonstrates that matching was successful in\\nachieving a covariate balance between groups, with all cri-\\nteria having absolute standardized coefficients \\\\0.25 (as\\nper the predetermined threshold). The demographics of\\nthe study population, stratified by group, according to\\nthe criteria used for propensity matching are reported inTable 1. These variables all indicated that propensitymatching was successful and that the groups were similar\\nenough to allow reliable comparisons. Furthermore, the\\noverall rate of contralateral ACL ruptures was 9.1% afterindex surgery, and there was no significant difference\\nbetween groups, again reflecting that the groups were\\nwell matched in terms of risk (isolated: 10.2%; combined:\\n8.0%; P= .0934). Table 2 summarizes the time between\\ninjury and surgery, the anteroposterior side-to-side laxity\\ndifference, and the frequency of meniscal and chondral\\nlesions. However, as expected, there was a significant dif-ference in the mean follow-up between groups, reflectinga trend toward more frequent use of combined procedures\\nthroughout the study period. The mean follow-up was\\n101.3659.9 months. In the isolated group, the mean final\\nfollow-up was 136.8 months (range, 25.9-228.2 months),\\nand in the combined group, it was 65.9 months (range,\\n24.1-142.2 months) ( P\\\\.0001).\\nClinical Outcomes\\nAt 1 year postoperatively, no significant differences were\\nseen in the anteroposterior side-to-side laxity difference\\nbetween the groups. The mean side-to-side laxity differ-\\nence using a Rolimeter was 0.6 61.2 mm in the isolated\\ngroup and 0.4 61.1 mm in the combined group ( P=\\n.071). At the end of the study period, there were significant\\ndifferences between the isolated and combined groups withrespect to graft rupture rates (9.9% vs 3.5%, respectively;P\\\\.0001) (Table 3) and overall reoperation rates (20.5%\\nvs 8.9%, respectively; P\\\\.0001) (Table 4).\\nSurvivorship and Risk Analyses\\nKaplan-Meier analysis demonstrated significantly better\\ngraft survivorship in the combined group compared withthe isolated group at every time point assessed (Figure 3).\\nMultivariate analysis was performed using a Cox model\\nto include age, sex, graft type (BPTB or HT), meniscallesions, and participation in contact sports and pivoting\\nsports. The Cox model was used to estimate the risk of\\ngraft ruptures, per unit of exposure time, and explore rela-tionships with potential explanatory variables. This\\nrevealed that patients undergoing isolated ACLR with\\na BPTB graft were .3-fold more likely to have graft failure\\nthan those who underwent combined ACLR 1ALLR with\\nan HT graft (hazard ratio [HR], 3.554 [95% CI, 1.744-\\n7.243]; P= .0005). Table 3 summarizes the rate of graft\\nruptures (failure) between groups at different time points.\\nFurthermore, the risk of graft ruptures was signifi-\\ncantly higher for patients aged \\\\20 years compared with\\npatients aged .30 years, regardless of the type of graft,\\nwith all other parameters being equal (HR, 5.650 [95%\\nCI, 1.834-17.241]; P= .0002) (Figure 4). None of the other\\nparameters investigated were significant risk factors.\\nA subgroup analysis of all patients aged \\\\20 years was\\nperformed to investigate whether the risk factors for graft\\nfailure were different in this specific ‘‘at-risk’’ population.The analysis revealed that patients in this subgroupwere more than 3-fold more likely to have graft failure if\\nthey underwent isolated ACLR with a BPTB graft than if\\nthey underwent combined ACLR 1ALLR with an HT\\nFigure 2. Study flowchart. ACL, anterior cruciate ligament;\\nACLR, anterior cruciate ligament reconstruction; ALL, antero-lateral ligament; BPTB, bone–patellar tendon–bone; HT,\\nhamstring tendon; LEAP, lateral extra-articular procedure;\\nQT, quadriceps tendon; ST, semitendinosus tendon.4Pioger et al The American Journal of Sports Medicine', '\\n5\\naData are presented as mean 6SD unless otherwise specified. The absolute standardized differences demonstrate that propensity match-\\ning was successful and that the groups were similar enough for reliable comparisons. When propensity matching is successful, statistical\\nanalyses of mean differences between groups are not performed, and therefore, no Pvalues are presented.\\n5\\naData are presented as mean 6SD unless otherwise specified. The absolute standardized differences demonstrate that propensity match-\\ning was successful and that the groups were similar enough for reliable comparisons. When propensity matching is successful, statistical\\nanalyses of mean differences between groups are not performed, and therefore, no Pvalues are presented. LM, lateral meniscus; MM,\\nmedial meniscus.\\n1\\naData are presented as n (%).\\nbMcNemar test.\\n1\\naData are presented as n (%). Bold indicates statistically significant. ‘‘Other’’ represents the rest of reoperations, such as tibial screw\\nremoval because of cysts or arthrolysis for reasons other than cyclops lesions.\\nbMcNemar test.AJSM Vol. XX, No. X, XXXX ACLR 1ALLR Versus ACLR With BPTB Grafts 5', '\\ngraft, as shown in Figure 5. None of the other factors inves-\\ntigated demonstrated statistical significance.\\nKaplan-Meier analysis also demonstrated significantly\\nbetter reoperation-free survivorship in the combined group\\nat every time point analyzed (Figure 6). An evaluation ofdifferences in the absolute rates of complication between\\ngroups demonstrated that the differences in reoperation-\\nfree survivorship were caused by significantly higher ratesof graft ruptures, reoperations for symptomatic cyclops\\nlesions, and secondary meniscectomy in the isolated group(Table 4). There was a significantly higher rate of graft\\nruptures ( P\\\\.0001), cyclops lesions ( P= .0094), and sec-\\nondary meniscectomy ( P= .0196) in the isolated group\\n(Table 4).\\nMultivariate analysis was performed using a Cox pro-\\nportional hazards model to include age, sex, study group,meniscal lesions, and participation in contact and pivoting\\nsports. The overall risk of requiring a reoperation was\\nhigher for patients in the isolated group compared withpatients in the combined group (HR, 1.786 [95% CI,\\nFigure 5. Kaplan-Meier plot demonstrating differences in graft\\nsurvivorship between the iso lated and combined groups in\\npatients aged \\\\20 years. A significant di fference in graft survi-\\nvorship is illustrated ( P= .0119). ALL, anterolateral ligament;\\nBPTB, bone–patellar tendon– bone; HT, hamstring tendon.\\nFigure 4. Kaplan-Meier plot demonstrating differences in\\ngraft survivorship between different age groups. A significant\\ndifference in graft survivorship for patients aged .30 years in\\ncomparison with patients aged \\\\20 years is illustrated ( P=\\n.0002).\\nFigure 3. Kaplan-Meier plot demonstrating differences in\\ngraft survivorship between the isolated and combined\\ngroups. A significant difference in graft survivorship is illus-trated ( P\\\\.0001). ALL, anterolateral ligament; BPTB,\\nbone–patellar tendon–bone; HT, hamstring tendon.\\nFigure 6. Kaplan-Meier plot demonstrating differences in\\ntime to a reoperation between the isolated and combinedgroups. A significant difference in graft survivorship is illus-\\ntrated ( P\\\\.0001). ALL, anterolateral ligament; BPTB,\\nbone–patellar tendon–bone; HT, hamstring tendon.6Pioger et al The American Journal of Sports Medicine', '\\n1.195-2.668]; P= .0047). None of the other factors investi-\\ngated demonstrated statistical significance.\\nDISCUSSION\\nThe main findings of this study were that patients whounderwent isolated ACLR with BPTB autografts experi-enced significantly higher rates of graft ruptures and reop-\\nerations than those who underwent combined ACLR 1\\nALLR with HT autografts. When the possible effects of sig-nificantly different durations of follow-up between groups\\nwere accounted for (by using time-to-event analyses that\\nwere independent of overall durations of follow-up), thesefindings were confirmed. Specifically, patients who under-\\nwent ACLR with BPTB grafts had significantly worse ACL\\ngraft survivorship and overall reoperation-free survivor-ship at every time point analyzed compared with those\\nwho underwent ACLR 1ALLR with HT autografts. Fur-\\nthermore, the risks of graft ruptures and overall reopera-tions were more than 3.5 and 1.7 times higher,respectively, in patients who underwent isolated ACLR\\nwith BPTB autografts. These findings are consistent with\\nnumerous previous comparative studies demonstratingsignificant advantages of combined ACLR 1lateral\\nextra-articular procedures with respect to graft rupture\\nrates compared with isolated ACLR.\\n6,14,18,22,45\\nIt was also an important finding that there were signif-\\nicant differences between groups with respect to the occur-\\nrence of non–graft rupture-related reoperations. The rateof reoperations for symptomatic cyclops lesions in the iso-\\nlated group was more than double that in the combined\\ngroup (4.3% [n = 43] vs 1.7% [n = 17], respectively; P=\\n.0094). Because all reoperations for symptomatic cyclopslesions occurred before 24 months after the index proce-\\ndure, this difference between groups cannot be accounted\\nfor by differences in the follow-up duration. Instead, thefinding is consistent with numerous reports that extension\\ndeficits are more common with BPTB grafts.\\n1,13,37,46This is\\nan important observation because an extension deficit inthe early postoperative period has recently been estab-\\nlished as an important risk factor for the development of\\nsymptomatic cyclops lesions.\\n10,34\\nAdditionally, the rate of secondary meniscectomy was\\nsignificantly lower in the combined group. This finding is\\nconsistent with previous work by Sonnery-Cottet et al,44\\nwhich demonstrated that in patients who underwent\\nrepair of the medial meniscus at the time of ACLR, those\\nundergoing concomitant ALLR had a 2-fold reduction in\\nsecondary meniscectomy rates. These findings were attrib-uted to better restoration of normal knee kinematics and\\nload sharing with repair.\\nA further key finding of this study was that there were\\nno significant differences between groups with respect to\\nthe anteroposterior side-to-side laxity difference. These\\nfindings are consistent with several meta-analyses thathave demonstrated no significant differences in knee laxityparameters between HT and BPTB grafts.\\n4,8,38,48\\nOverall, it is our opinion that there has been a widely,\\nand sometimes dogmatically, held belief that BPTBautografts are the standard graft choice for ACLR. Indeed,\\nthis strong preference for BPTB grafts is noted within the\\ncurrent study, with a large number of patients undergoing\\nACLR with BPTB grafts early in the study period, but it isgradually being superseded by a preference for ACLR 1\\nALLR with HT grafts in view of observed clinical advan-\\ntages later in the study period. Similarly, practice patternsin both the United States and globally have demonstratedan increasing trend away from BPTB grafts, in preference\\nfor soft tissue grafts, in contemporary practice.\\n40Of note,\\nthe use of quadriceps tendon (QT) autografts has dramati-cally increased in the past few years.\\n29,41A recent meta-\\nanalysis comparing BPTB, HT, and QT grafts reported\\na lack of important differences between groups withrespect to knee stability, graft rupture rates, and the Inter-\\nnational Knee Documentation Committee subjective score,\\nbut did identify significantly lower rates of donor-site mor-bidity with QT grafts than with either of the other choices.\\n9\\nIt is seemingly the case that the trend away from BPTBgrafts has been driven by concerns about donor-site mor-bidity (especially anterior knee pain)\\n7,16and higher rates\\nof extension deficits.1,13,37,46However, it is clear that all\\ngraft choices have pros and cons, and the optimum graft\\nchoice remains a controversial topic. It is therefore ouropinion that ACL graft choice should be individualized\\naccording to patient/surgeon factors. However, it is also\\nclear, considering the findings of this study and previouscomparative studies, that combined ACLR 1ALLR offers\\nsignificant advantages over isolated ACLR.\\n20,24,35,45The\\ncurrent study poses a challenge to the widely held beliefthat BPTB grafts are the standard for ACLR because sig-nificant advantages have been demonstrated with HT\\ngrafts when used as a single graft construct to perform\\ncombined ACLR 1ALLR, without evidence of inferior\\nknee stability. Further evaluations with a randomized con-\\ntrolled trial are needed to confirm these findings.\\nA further important finding of this study was that youn-\\nger age ( \\\\20 years) was also a significant risk factor for\\ngraft ruptures on multivariate analysis. This is not an\\nunexpected finding because many previous studies havereported age to be an important risk factor for graft failure\\nand a predictor of early revision ACLR.\\n15,21,25,26,33,39,42The\\ncurrent study demonstrates that patients aged \\\\20 years\\nhad a .5-fold higher risk of graft ruptures compared\\nwith patients aged .30 years ( P= .0002). It is precisely\\nthis increased risk of graft ruptures in young patients\\nthat has led to a preference for the gold standard BPTBgraft in this population. However, the subgroup analysis\\nin this study demonstrated that in this so called at-risk\\npopulation, graft rupture rates were .3-fold higher with\\nisolated ACLR using BPTB grafts compared with combined\\nACLR 1ALLR using HT grafts. These findings are consis-\\ntent with numerous comparative studies of other high-riskpopulations demonstrating the advantages of combinedreconstruction.\\n22\\nIt was anticipated that there would be significant differ-\\nences in the duration of follow-up between the groupsbecause of the larger proportion of patients undergoing com-\\nbined reconstruction toward the latter part of the study\\nperiod. For that reason, statistical methods that wereAJSM Vol. XX, No. X, XXXX ACLR 1ALLR Versus ACLR With BPTB Grafts 7', '\\nunaffected by any differences in the duration of follow-up\\nbetween groups were used to evaluate graft survivorship,\\nreoperation-free survivorship, and the significance of poten-\\ntially important risk factors. Specifically, Kaplan-Meieranalysis was used because it is widely recognized as one of\\nthe best ways to analyze time-to-event data. It provides an\\nestimation of survivorship unaffected by differences in theduration of follow-up between groups. The estimate involvescalculating the probabilities of the occurrence of events at\\nspecified time points and multiplying these successive prob-\\nabilities by earlier computed probabilities to obtain a finalestimate. Additionally, Cox proportional hazards modeling\\nwas used to evaluate differences in the risk of graft ruptures\\nbetween groups and the influence of potentially importantrisk factors. This model was also specifically chosen because\\nit was also unaffected by differences in the duration of fol-\\nlow-up between groups. This is because it expresses theinstantaneous risk of an event as a function of time. It\\ndoes so by considering the individual follow-up period for\\neach patient in addition to the occurrence of the event,and therefore, the estimation of risk is unbiased by differen-ces between groups with respect to the duration of follow-\\nup. Specifically, in this study, the principle of the Cox model\\nwas to associate the date of the occurrence of an event (graftrupture/failure or reoperation) with a type of treatment (iso-\\nlated ACLR with BPTB autograft vs combined ACLR 1\\nALLR with HT autograft), completely independent of theoverall follow-up duration.\\nThe main limitations of this study were its retrospective\\nand nonrandomized design. Although the inherent weak-nesses of these types of studies are well recognized, it isimportant to highlight that the rationale for choosing\\nthis design was to take advantage of the fact that retro-\\nspective studies offer the ability to easily examine verylarge study populations with a long-term follow-up.\\nAttempts to mitigate any potential effects of treatment\\nselection bias were made by propensity matching, andthe success of doing so is reflected in not only the absolute\\nstandardized difference but also the finding that there\\nwere no significant differences between groups withrespect to contralateral graft rupture rates, indicating\\nthat both groups had similar risk profiles. A further limita-\\ntion of the study was significant differences in the durationof follow-up between groups. This was addressed by utiliz-ing statistical methods that use time-to-event data that are\\nindependent of, and therefore unbiased by, differences in\\nthe overall follow-up duration. Finally, data about returnto sports were not available.\\nCONCLUSION\\nPatients who underwent isolated ACLR with BPTB auto-\\ngrafts experienced significantly worse ACL graft survivor-\\nship and overall reoperation-free survivorship comparedwith those who underwent combined ACLR 1ALLR\\nwith HT autografts. The risk of graft ruptures was .3-\\nfold higher in patients who underwent isolated ACLR\\nusing BPTB autografts.ORCID iDs\\nThais Dutra Vieira https://orcid.org/0000-0002-1624-\\n1824Charles Pioger\\nhttps://orcid.org/0000-0003-1180-4955\\nGraeme P. Hopper https://orcid.org/0000-0001-8770-6097\\nAdnan Saithna https://orcid.org/0000-0002-2408-5307\\nBertrand Sonnery-Cottet https://orcid.org/0000-0002-\\n6837-0425\\nREFERENCES\\n1. Ahlde ´n M, Kartus J, Ejerhed L, Karlsson J, Sernert N. Knee laxity\\nmeasurements after anterior cruciate ligament reconstruction, usingeither bone–patellar–tendon–bone or hamstring tendon autografts,with special emphasis on comparison over time. Knee Surg Sports\\nTraumatol Arthrosc . 2009;17(9):1117-1124.\\n2. Arliani GG, Pereira VL, Lea ˜o RG, Lara PS, Ejnisman B, Cohen M.\\nTreatment of anterior cruciate ligament injuries in professional soccerplayers by orthopedic surgeons. Rev Bras Ortop (Sao Paulo) . 2019;\\n54(6):703-708.\\n3. Arnold MP, Calcei JG, Vogel N, et al. ACL Study Group survey\\nreveals the evolution of anterior cruciate ligament reconstruction graftchoice over the past three decades. Knee Surg Sports Traumatol\\nArthrosc . 2021;29(11):3871-3876.\\n4. Biau DJ, Katsahian S, Kartus J, et al. Patellar tendon versus ham-\\nstring tendon autografts for reconstructing the anterior cruciate liga-ment: a meta-analysis based on individual patient data. Am J Sports\\nMed . 2009;37(12):2470-2478.\\n5. Bowman EN, Limpisvasti O, Cole BJ, ElAttrache NS. Anterior cruciate\\nligament reconstruction graft preference most dependent on patientage: a survey of United States surgeons. Arthroscopy . 2021;37(5):\\n1559-1566.\\n6. Castoldi M, Magnussen RA, Gunst S, et al. A randomized controlled\\ntrial of bone–patellar tendon–bone anterior cruciate ligament recon-struction with and without lateral extra-articular tenodesis: 19-yearclinical and radiological follow-up. Am J Sports Med . 2020;48(7):\\n1665-1672.\\n7. Cerulli G, Placella G, Sebastiani E, Tei MM, Speziali A, Manfreda F.\\nACL reconstruction: choosing the graft. Joints . 2013;1(1):18-24.\\n8. Chee MYK, Chen Y, Pearce CJ, et al. Outcome of patellar tendon ver-\\nsus 4-strand hamstring tendon autografts for anterior cruciate liga-ment reconstruction: a systematic review and meta-analysis ofprospective randomized trials. Arthroscopy . 2017;33(2):450-463.\\n9. Dai W, Leng X, Wang J, Cheng J, Hu X, Ao Y. Quadriceps tendon\\nautograft versus bone–patellar tendon–bone and hamstring tendonautografts for anterior cruciate ligament reconstruction: a systematicreview and meta-analysis. Am J Sports Med . Published online Sep-\\ntember 8, 2021. doi: 10.1177/03635465211030259\\n10. Delaloye JR, Murar J, Vieira TD, et al. Knee extension deficit in the\\nearly postoperative period predisposes to cyclops syndrome afteranterior cruciate ligament reconstruction: a risk factor analysis in3633 patients from the SANTI Study Group database. Am J Sports\\nMed . 2020;48(3):565-572.\\n11. Erickson BJ, Harris JD, Fillingham YA, et al. Anterior cruciate liga-\\nment reconstruction practice patterns by NFL and NCAA footballteam physicians. Arthroscopy . 2014;30(6):731-738.\\n12. Farber J, Harris JD, Kolstad K, McCulloch PC. Treatment of anterior\\ncruciate ligament injuries by Major League Soccer team physicians.Orthop J Sports Med . 2014;2(11):2325967114559892.\\n13. Feller JA, Webster KE. A randomized comparison of patellar tendon\\nand hamstring tendon anterior cruciate ligament reconstruction. Am\\nJ Sports Med . 2003;31(4):564-573.\\n14. Ferretti A, Monaco E, Ponzo A, et al. Combined intra-articular and\\nextra-articular reconstruction in anterior cruciate ligament-deficientknee: 25 years later. Arthroscopy . 2016;32(10):2039-2047.8Pioger et al The American Journal of Sports Medicine', '\\n15. Firth AD, Bryant DM, Litchfield R, et a l. Predictors of graft failure in young\\nactive patients undergoing hamstring a utograft anterior cruciate ligament\\nreconstruction with or without a latera l extra-articular tenodesis: the Sta-\\nbility experience. Am J Sports Med . 2022;50(2):384-395.\\n16. Freedman KB, D’Amato MJ, Nedeff DD, Kaz A, Bach BR. Arthro-\\nscopic anterior cruciate ligament reconstruction: a metaanalysiscomparing patellar tendon and hamstring tendon autografts. Am J\\nSports Med . 2003;31(1):2-11.\\n17. Garofalo R, Mouhsine E, Chambat P, Siegrist O. Anatomic anterior\\ncruciate ligament reconstruction: the two-incision technique. Knee\\nSurg Sports Traumatol Arthrosc . 2006;14(6):510-516.\\n18. Getgood AMJ, Bryant DM, Litchfield R, et al. Lateral extra-articular\\ntenodesis reduces failure of hamstring tendon autograft anterior cruci-ate ligament reconstruction: 2-year outcomes from the STABILITYstudy randomized clinical trial. Am J Sports Med . 2020;48(2):285-297.\\n19. Grassi A, Carulli C, Innocenti M, et al. New trends in anterior cruciate\\nligament reconstruction: a systematic review of national surveys ofthe last 5 years. Joints . 2018;6(3):177-187.\\n20. Helito CP, Camargo DB, Sobrado MF, et al. Combined reconstruc-\\ntion of the anterolateral ligament in chronic ACL injuries leads to bet-ter clinical outcomes than isolated ACL reconstruction. Knee Surg\\nSports Traumatol Arthrosc . 2018;26(12):3652-3659.\\n21. Kamien PM, Hydrick JM, Replogle WH, Go LT, Barrett GR. Age, graft\\nsize, and Tegner activity level as predictors of failure in anterior cru-ciate ligament reconstruction with hamstring autograft. Am J Sports\\nMed . 2013;41(8):1808-1812.\\n22. Laboudie P, Douiri A, Bouguennec N, Biset A, Graveleau N. Com-\\nbined ACL and ALL reconstruction reduces the rate of reoperationfor graft failure or secondary meniscal lesions in young athletes.\\nKnee Surg Sports Traumatol Arthrosc . 2022;30(10):3488-3498. doi:\\n10.1007/s00167-022-06956-x\\n23. Lai CCH, Feller JA, Webster KE. Fifteen-year audit of anterior cruci-\\nate ligament reconstructions in the Australian Football League from1999 to 2013: return to play and subsequent ACL injury. Am J Sports\\nMed . 2018;46(14):3353-3360.\\n24. Lee DW, Kim JG, Cho SI, Kim DH. Clinical outcomes of isolated revi-\\nsion anterior cruciate ligament reconstruction or in combination withanatomic anterolateral ligament reconstruction. Am J Sports Med .\\n2019;47(2):324-333.\\n25. Magnussen RA, Lawrence JTR, West RL, Toth AP, Taylor DC, Garrett\\nWE. Graft size and patient age are predictors of early revision afteranterior cruciate ligament reconstruction with hamstring autograft.Arthroscopy . 2012;28(4):526-531.\\n26. Maletis GB, Chen J, Inacio MCS, Funahashi TT. Age-related risk fac-\\ntors for revision anterior cruciate ligament reconstruction: a cohortstudy of 21,304 patients from the Kaiser Permanente Anterior Cruci-ate Ligament Registry. Am J Sports Med . 2016;44(2):331-336.\\n27. Mall NA, Abrams GD, Azar FM, et al. Trends in primary and revision\\nanterior cruciate ligament reconstruction among National Basketball\\nAssociation team physicians. Am J Orthop (Belle Mead NJ) .\\n2014;43(6):267-271.\\n28. Mitchell A, Krzanowski W. The Mahalanobis distance and elliptic dis-\\ntributions. Biometrika . 1985;72(2):464-467.\\n29. Mouarbes D, Menetrey J, Marot V, Courtot L, Berard E, Cavaignac E.\\nAnterior cruciate ligament reconstruction: a systematic review andmeta-analysis of outcomes for quadriceps tendon autograft versusbone–patellar tendon–bone and hamstring-tendon autografts. Am J\\nSports Med . 2019;47(14):3531-3540. doi: 10.1177/0363546518825340\\n30. Noyes FR. Editorial commentary. Lateral extra-articular reconstruc-\\ntions with anterior cruciate ligament surgery: are these operative pro-cedures supported by in vitro biomechanical studies? Arthroscopy .\\n2016;32(12):2612-2615.\\n31. Obesity: preventing and managing the global epidemic. Report of\\na WHO consultation. World Health Organ Tech Rep Ser . 2000;894:\\ni-xii, 1-253.32. Papachristou G, Nikolaou V, Efstathopoulos N, et al. ACL reconstruc-\\ntion with semitendinosus tendon autograft without detachment of itstibial insertion: a histologic study in a rabbit model. Knee Surg Sports\\nTraumatol Arthrosc . 2007;15(10):1175-1180.\\n33. Parkinson B, Robb C, Thomas M, Thompson P, Spalding T. Factors\\nthat predict failure in anatomic single-bundle anterior cruciate liga-ment reconstruction. Am J Sports Med . 2017;45(7):1529-1536.\\n34. Pinto FG, Thaunat M, Daggett M, et al. Hamstring contracture after\\nACL reconstruction is associated with an increased risk of cyclopssyndrome. Orthop J Sports Med . 2017;5(1):2325967116684121.\\n35. Saithna A, Daggett M, Helito CP, et al. Clinical results of combined\\nACL and anterolateral ligament reconstruction: a narrative review\\nfrom the SANTI Study Group. J Knee Surg\\n. 2021;49(11):2889-2897.\\ndoi: 10.1055/s-0040-1701220\\n36. Saithna A, Thaunat M, Delaloye JR, Ouanezar H, Fayard JM, Son-\\nnery-Cottet B. Combined ACL and anterolateral ligament reconstruc-tion. JBJS Essent Surg Tech . 2018;8(1):e2.\\n37. Sajovic M, Strahovnik A, Dernovsek MZ, Skaza K. Quality of life and\\nclinical outcome comparison of semitendinosus and gracilis tendonversus patellar tendon autografts for anterior cruciate ligamentreconstruction: an 11-year follow-up of a randomized controlled trial.Am J Sports Med . 2011;39(10):2161-2169.\\n38. Samuelsen BT, Webster KE, Johnson NR, Hewett TE, Krych AJ.\\nHamstring autograft versus patellar tendon autograft for ACL recon-struction: is there a difference in graft failure rate? A meta-analysis of47,613 patients. Clin Orthop Relat Res . 2017;475(10):2459-2468.\\n39. Sanders TL, Pareek A, Hewett TE, et al. Long-term rate of graft failure\\nafter ACL reconstruction: a geographic population cohort analysis.Knee Surg Sports Traumatol Arthrosc . 2017;25(1):222-228.\\n40. Sherman SL, Calcei J, Ray T, et al. ACL Study Group presents the\\nglobal trends in ACL reconstruction: biennial survey of the ACL StudyGroup. J ISAKOS . 2021;6(6):322-328.\\n41. Slone HS, Romine SE, Premkumar A, Xerogeanes JW. Quadriceps\\ntendon autograft for anterior cruciate ligament reconstruction: a com-prehensive review of current literature and systematic review of clin-ical results. Arthroscopy . 2015;31(3):541-554.\\n42. Snaebjo ¨rnsson T, Svantesson E, Sundemo D, et al. Young age and\\nhigh BMI are predictors of early revision surgery after primary anteriorcruciate ligament reconstruction: a cohort study from the Swedishand Norwegian knee ligament registries based on 30,747 patients.Knee Surg Sports Traumatol Arthrosc . 2019;27(11):3583-3591.\\n43. Sonnery-Cottet B, Daggett M, Fayard JM, et al. Anterolateral Liga-\\nment Expert Group consensus paper on the management of internalrotation and instability of the anterior cruciate ligament-deficientknee. J Orthop Traumatol . 2017;18(2):91-106.\\n44. Sonnery-Cottet B, Saithna A, Blakeney WG, et al. Anterolateral liga-\\nment reconstruction protects the repaired medial meniscus: a com-parative study of 383 anterior cruciate ligament reconstructions\\nfrom the SANTI Study Group with a minimum follow-up of 2 years.\\nAm J Sports Med . 2018;46(8):1819-1826.\\n45. Sonnery-Cottet B, Saithna A, Cavalier M, et al. Anterolateral ligament\\nreconstruction is associated with significantly reduced ACL graft rup-ture rates at a minimum follow-up of 2 years: a prospective compar-ative study of 502 patients from the SANTI Study Group. Am J Sports\\nMed . 2017;45(7):1547-1557.\\n46. Webster KE, Feller JA, Hartnett N, Leigh WB, Richmond AK. Com-\\nparison of patellar tendon and hamstring tendon anterior cruciate lig-ament reconstruction: a 15-year follow-up of a randomizedcontrolled trial. Am J Sports Med . 2016;44(1):83-90.\\n47. Zaffagnini S, Golano `P, Farinas O, et al. Vascularity and neurorecep-\\ntors of the pes anserinus: anatomic study. Clin Anat . 2003;16(1):19-24.\\n48. Zhao L, Lu M, Deng M, Xing J, He L, Wang C. Outcome of bone–patel-\\nlar tendon–bone vs hamstring tendon a utograft for anterior cruciate liga-\\nment reconstruction: a meta-analysis of randomized controlled trials witha 5-year minimum follow-up. Medicine (Baltimore) . 2020;99(48):e23476.\\nFor reprints and permission queries, please visit SAGE’s Web site at http://www.sagepub.com/journals-permissionsAJSM Vol. XX, No. X, XXXX ACLR 1ALLR Versus ACLR With BPTB Grafts 9']\n"
     ]
    }
   ],
   "source": [
    "print(extract_information2('/kaggle/input/article-1/AP_20211103_SONNERY_COTTET_Article publi.pdf')[0])"
   ]
  },
  {
   "cell_type": "markdown",
   "id": "14236437",
   "metadata": {
    "papermill": {
     "duration": 0.008576,
     "end_time": "2024-07-24T22:34:06.255367",
     "exception": false,
     "start_time": "2024-07-24T22:34:06.246791",
     "status": "completed"
    },
    "tags": []
   },
   "source": [
    "# **BACKUP FUNCTION**"
   ]
  },
  {
   "cell_type": "code",
   "execution_count": 16,
   "id": "af6c856d",
   "metadata": {
    "execution": {
     "iopub.execute_input": "2024-07-24T22:34:06.275153Z",
     "iopub.status.busy": "2024-07-24T22:34:06.274236Z",
     "iopub.status.idle": "2024-07-24T22:34:06.281854Z",
     "shell.execute_reply": "2024-07-24T22:34:06.280822Z"
    },
    "papermill": {
     "duration": 0.019806,
     "end_time": "2024-07-24T22:34:06.284037",
     "exception": false,
     "start_time": "2024-07-24T22:34:06.264231",
     "status": "completed"
    },
    "tags": []
   },
   "outputs": [],
   "source": [
    "def EXTRACT_TABLE (res_part) :\n",
    "    res=[]\n",
    "    label=[]\n",
    "    p=re.compile('TABLE [0-9]\\n')\n",
    "    pos=p.search(res_part)\n",
    "    while pos!=None :\n",
    "        label.append(res_part[pos.start():pos.end()])\n",
    "        next=p.search(res_part[pos.end():])\n",
    "        if next!=None :\n",
    "            res.append(res_part[pos.end():next.start()+pos.end()])\n",
    "        else :\n",
    "            d=re.compile('[0-9]\\n[^0-9]{40,100}')\n",
    "            next=d.search(res_part[pos.end():])\n",
    "            res.append(res_part[pos.end():next.start()+pos.end()+1])    \n",
    "        res_part=res_part[pos.end():]\n",
    "        pos=p.search(res_part)\n",
    "    return(label,res)"
   ]
  },
  {
   "cell_type": "code",
   "execution_count": 17,
   "id": "74edcb42",
   "metadata": {
    "execution": {
     "iopub.execute_input": "2024-07-24T22:34:06.303262Z",
     "iopub.status.busy": "2024-07-24T22:34:06.302895Z",
     "iopub.status.idle": "2024-07-24T22:34:06.310757Z",
     "shell.execute_reply": "2024-07-24T22:34:06.309723Z"
    },
    "papermill": {
     "duration": 0.020273,
     "end_time": "2024-07-24T22:34:06.313143",
     "exception": false,
     "start_time": "2024-07-24T22:34:06.292870",
     "status": "completed"
    },
    "tags": []
   },
   "outputs": [],
   "source": [
    "def extract_information(pdf_path):\n",
    "    with open(pdf_path, 'rb') as f:\n",
    "        reader = PdfReader(f)\n",
    "        meta = reader.metadata\n",
    "        number_of_pages = len(reader.pages)\n",
    "        \n",
    "        pages_text = []\n",
    "        for n in range(number_of_pages):\n",
    "            page = reader.pages[n]\n",
    "            pages_text.append('\\n'+page.extract_text())\n",
    "\n",
    "    metadata = f\"\"\"\n",
    "    Information about {pdf_path}: \n",
    "\n",
    "    Author: {meta.author}\n",
    "    Creator: {meta.creator}\n",
    "    Producer: {meta.producer}\n",
    "    Subject: {meta.subject}\n",
    "    Title: {meta.title}\n",
    "    Number of pages: {number_of_pages}\n",
    "    \"\"\"\n",
    "    g=re.compile('TABLE ')\n",
    "    print(metadata)\n",
    "    i=0\n",
    "    tab=''\n",
    "    while i < len(pages_text) :\n",
    "        pos = g.search(pages_text[i])\n",
    "        if pos!=None:\n",
    "            tab=pages_text.pop(i)\n",
    "            i=len(pages_text)\n",
    "        else :\n",
    "            i+=1\n",
    "    return pages_text,metadata,tab"
   ]
  },
  {
   "cell_type": "markdown",
   "id": "8b047af6",
   "metadata": {
    "papermill": {
     "duration": 0.008679,
     "end_time": "2024-07-24T22:34:06.330796",
     "exception": false,
     "start_time": "2024-07-24T22:34:06.322117",
     "status": "completed"
    },
    "tags": []
   },
   "source": [
    "# **WORD PROCESS SYNOPSIS**"
   ]
  },
  {
   "cell_type": "code",
   "execution_count": 18,
   "id": "e1c09025",
   "metadata": {
    "collapsed": true,
    "execution": {
     "iopub.execute_input": "2024-07-24T22:34:06.350052Z",
     "iopub.status.busy": "2024-07-24T22:34:06.349683Z",
     "iopub.status.idle": "2024-07-24T22:34:19.912366Z",
     "shell.execute_reply": "2024-07-24T22:34:19.911080Z"
    },
    "jupyter": {
     "outputs_hidden": true
    },
    "papermill": {
     "duration": 13.575513,
     "end_time": "2024-07-24T22:34:19.915045",
     "exception": false,
     "start_time": "2024-07-24T22:34:06.339532",
     "status": "completed"
    },
    "tags": []
   },
   "outputs": [
    {
     "name": "stdout",
     "output_type": "stream",
     "text": [
      "Collecting python-docx\r\n",
      "  Downloading python_docx-1.1.2-py3-none-any.whl.metadata (2.0 kB)\r\n",
      "Requirement already satisfied: lxml>=3.1.0 in /opt/conda/lib/python3.10/site-packages (from python-docx) (5.2.2)\r\n",
      "Requirement already satisfied: typing-extensions>=4.9.0 in /opt/conda/lib/python3.10/site-packages (from python-docx) (4.9.0)\r\n",
      "Downloading python_docx-1.1.2-py3-none-any.whl (244 kB)\r\n",
      "\u001b[2K   \u001b[90m━━━━━━━━━━━━━━━━━━━━━━━━━━━━━━━━━━━━━━━\u001b[0m \u001b[32m244.3/244.3 kB\u001b[0m \u001b[31m879.0 kB/s\u001b[0m eta \u001b[36m0:00:00\u001b[0m\r\n",
      "\u001b[?25hInstalling collected packages: python-docx\r\n",
      "Successfully installed python-docx-1.1.2\r\n"
     ]
    }
   ],
   "source": [
    "!pip install python-docx\n",
    "import docx"
   ]
  },
  {
   "cell_type": "code",
   "execution_count": 19,
   "id": "42a57892",
   "metadata": {
    "execution": {
     "iopub.execute_input": "2024-07-24T22:34:19.937086Z",
     "iopub.status.busy": "2024-07-24T22:34:19.936454Z",
     "iopub.status.idle": "2024-07-24T22:34:19.986721Z",
     "shell.execute_reply": "2024-07-24T22:34:19.985557Z"
    },
    "papermill": {
     "duration": 0.064349,
     "end_time": "2024-07-24T22:34:19.989406",
     "exception": false,
     "start_time": "2024-07-24T22:34:19.925057",
     "status": "completed"
    },
    "tags": []
   },
   "outputs": [],
   "source": [
    "# Chemin vers le document Word\n",
    "file_path = '/kaggle/input/synopsis-1/2024.06.24_Synopsis_GODENECHE_Format_HDH_VF.docx'\n",
    "\n",
    "# Ouvrir le document Word\n",
    "doc = docx.Document(file_path)\n",
    "\n",
    "tables_text = []\n",
    "for table in doc.tables:\n",
    "    for row in table.rows:\n",
    "        row_text = [cell.text for cell in row.cells]\n",
    "        tables_text.append(row_text)"
   ]
  },
  {
   "cell_type": "code",
   "execution_count": 20,
   "id": "674e31d6",
   "metadata": {
    "execution": {
     "iopub.execute_input": "2024-07-24T22:34:20.009807Z",
     "iopub.status.busy": "2024-07-24T22:34:20.009427Z",
     "iopub.status.idle": "2024-07-24T22:34:20.017205Z",
     "shell.execute_reply": "2024-07-24T22:34:20.015831Z"
    },
    "papermill": {
     "duration": 0.020891,
     "end_time": "2024-07-24T22:34:20.019630",
     "exception": false,
     "start_time": "2024-07-24T22:34:19.998739",
     "status": "completed"
    },
    "tags": []
   },
   "outputs": [],
   "source": [
    "def SUBCOREDOCX(par) :\n",
    "    res=[]\n",
    "    label=['Introduction']\n",
    "    p=re.compile('\\n.{5,20}[\\\\xa0:]*\\n')\n",
    "    pos=p.search(par)\n",
    "    prems=0\n",
    "    while pos!=None :\n",
    "        prems+=1\n",
    "        res.append(par[:pos.start()])\n",
    "        label.append(par[pos.start():pos.end()])\n",
    "        par=par[pos.end():]\n",
    "        pos=p.search(par)   \n",
    "    res.append(par)\n",
    "    if prems==0 :\n",
    "        label=['Text Body']\n",
    "    return (label,res)"
   ]
  },
  {
   "cell_type": "code",
   "execution_count": 21,
   "id": "99caf4e1",
   "metadata": {
    "collapsed": true,
    "execution": {
     "iopub.execute_input": "2024-07-24T22:34:20.040208Z",
     "iopub.status.busy": "2024-07-24T22:34:20.039799Z",
     "iopub.status.idle": "2024-07-24T22:34:20.046133Z",
     "shell.execute_reply": "2024-07-24T22:34:20.044887Z"
    },
    "jupyter": {
     "outputs_hidden": true
    },
    "papermill": {
     "duration": 0.019713,
     "end_time": "2024-07-24T22:34:20.048758",
     "exception": false,
     "start_time": "2024-07-24T22:34:20.029045",
     "status": "completed"
    },
    "tags": []
   },
   "outputs": [
    {
     "name": "stdout",
     "output_type": "stream",
     "text": [
      "(['Introduction', '\\nObjectifs\\n'], ['Contexte\\n\\nLa rupture du tendon grand pectoral est une pathologie rare. Dans la littérature, il est globalement décrit deux façons de prendre en charge chirurgicalement les ruptures du grand pectoral :\\nSoit à un stade aigu (<6 semaines du traumatisme) : réinsertion directe du tendon au niveau du footprint.\\nSoit à un stade chronique (au-delà de 6 semaines par rapport au traumatisme) : utilisation de greffe (auto/allo) pour pallier la rétraction du tendon.\\nLe Dr Godenèche a privilégié une nouvelle approche\\xa0chez des patients avec une rupture du tendon grand pectoral : une suture directe au footprint sans recours à la greffe.\\n', '\\nLes objectifs sont de décrire, dans chacun des deux groupes de patients (stade aigu et stade chronique)\\xa0: \\nLes caractéristiques des patients (âge, type de traumatisme, délai entre le traumatisme et la chirurgie, prise de stéroïdes, emploi, sport pratiqué et niveau de pratique) \\nLe retour à l’emploi (type d’emploi) et le retour au sport (sport pratiqué et le niveau de pratique)\\nLe score SSV après chirurgie\\n La mobilité, la force et la perte de force\\nL Le résultats du test de palpation du tendon et l’asymétrie\\nLa satisfaction du patient\\nLes scores ASES, BAK et auto-Constant (douleur, activité quotidienne, mouvement, force)\\nLes complications post-opératoires et le recours éventuel à une nouvelle opération'])\n"
     ]
    }
   ],
   "source": [
    "print(SUBCOREDOCX(tables_text[6][1]))"
   ]
  },
  {
   "cell_type": "code",
   "execution_count": 22,
   "id": "0c8dcb33",
   "metadata": {
    "collapsed": true,
    "execution": {
     "iopub.execute_input": "2024-07-24T22:34:20.070062Z",
     "iopub.status.busy": "2024-07-24T22:34:20.069238Z",
     "iopub.status.idle": "2024-07-24T22:34:20.075366Z",
     "shell.execute_reply": "2024-07-24T22:34:20.074165Z"
    },
    "jupyter": {
     "outputs_hidden": true
    },
    "papermill": {
     "duration": 0.020497,
     "end_time": "2024-07-24T22:34:20.078980",
     "exception": false,
     "start_time": "2024-07-24T22:34:20.058483",
     "status": "completed"
    },
    "tags": []
   },
   "outputs": [
    {
     "name": "stdout",
     "output_type": "stream",
     "text": [
      "['', 'Résumé de l’étude, recherche ou évaluation\\nà l’attention du porteur de projet\\nObligatoirement en français – 4 pages maximum']\n",
      "-------\n",
      "['Titre/Acronyme\\n(sera rendu public)', 'Evaluation d’une suture directe au footprint sans recours à la greffe chez des patients ayant une rupture du tendon grand pectoral']\n",
      "-------\n",
      "[\"PRÉSENTATION DE L'ÉQUIPE PROJET\", \"PRÉSENTATION DE L'ÉQUIPE PROJET\"]\n",
      "-------\n",
      "['Responsable de traitement (RT)\\nMerci de préciser :\\nL’organisme d’appartenance  \\nLe nom du représentant juridique et sa fonction\\nLe nom du responsable scientifique et sa fonction si différent, et l’équipe associée\\nLe comité Scientifique (le cas échéant)\\nDélégué à la protection des données – DPD (le cas échéant)', 'Organisme d’appartenance\\xa0: \\nClinique Santy\\nReprésentant juridique et sa fonction\\xa0:\\nArnaud Godenèche, chirurgien\\nResponsable scientifique\\xa0:\\nArnaud Godenèche \\nComité scientifique\\xa0:\\nNA\\nDPO\\xa0:\\nArnaud Godenèche \\n']\n",
      "-------\n",
      "['Responsable de la mise en œuvre – RMO (le cas échéant)', 'Horiana\\n8B Rue Paul Camelle\\n33100 Bordeaux']\n",
      "-------\n",
      "['OBJECTIFS ET FINALITÉS', 'OBJECTIFS ET FINALITÉS']\n",
      "-------\n",
      "['Contexte de l’étude \\net objectifs', 'Contexte\\n\\nLa rupture du tendon grand pectoral est une pathologie rare. Dans la littérature, il est globalement décrit deux façons de prendre en charge chirurgicalement les ruptures du grand pectoral :\\nSoit à un stade aigu (<6 semaines du traumatisme) : réinsertion directe du tendon au niveau du footprint.\\nSoit à un stade chronique (au-delà de 6 semaines par rapport au traumatisme) : utilisation de greffe (auto/allo) pour pallier la rétraction du tendon.\\nLe Dr Godenèche a privilégié une nouvelle approche\\xa0chez des patients avec une rupture du tendon grand pectoral : une suture directe au footprint sans recours à la greffe.\\n\\nObjectifs\\n\\nLes objectifs sont de décrire, dans chacun des deux groupes de patients (stade aigu et stade chronique)\\xa0: \\nLes caractéristiques des patients (âge, type de traumatisme, délai entre le traumatisme et la chirurgie, prise de stéroïdes, emploi, sport pratiqué et niveau de pratique) \\nLe retour à l’emploi (type d’emploi) et le retour au sport (sport pratiqué et le niveau de pratique)\\nLe score SSV après chirurgie\\n La mobilité, la force et la perte de force\\nL Le résultats du test de palpation du tendon et l’asymétrie\\nLa satisfaction du patient\\nLes scores ASES, BAK et auto-Constant (douleur, activité quotidienne, mouvement, force)\\nLes complications post-opératoires et le recours éventuel à une nouvelle opération']\n",
      "-------\n",
      "['Justification de \\nl’Intérêt public\\n(Bénéfice du projet pour la société, effort de transparence de publication des résultats)', 'Cette étude va permettre d’obtenir des données sur le bénéfice possible d’une nouvelle approche chez des patients avec une rupture du tendon grand pectoral : une suture directe au footprint sans recours à des greffes']\n",
      "-------\n",
      "['Respect de l’éthique', 'Cette étude concerne une cohorte rétrospective de patients. A ce titre, elle s’inscrit dans le cadre de référence MR-004. Une information sera donnée individuellement à chaque patient qui aura la possibilité de s’opposer à l’utilisation de ses données.']\n",
      "-------\n",
      "['Publication des résultats et valorisation', 'Cette étude sera publiée dans une revue avec comité de lecture']\n",
      "-------\n",
      "['MÉTHODOLOGIE', 'MÉTHODOLOGIE']\n",
      "-------\n",
      "['Types de sources de données\\nrequises', '☐  Dossiers médicaux\\n☐   Données du SNDS historique :\\n☐   DCIR / SNIIRAM\\n☐   PMSI\\n☐   Causes d décès\\n☐   EGB\\n☐   Registre\\n   Enquête / Cohorte\\n☐   Autre(s)\\xa0: ']\n",
      "-------\n",
      "['(a) Population ciblée \\n(critères d’inclusion et non inclusion)\\n\\n(b) Période d’inclusion ou de ciblage', '(a) Les patients étudiés répondront aux critères suivants\\xa0:\\nPatient âgé de plus de 18 ans\\nPatient ayant eu une rupture du tendon grand pectoral\\nPatient qui a bénéficié d’une suture directe au footprint sans recours à des greffes\\nSujet ayant été informé et ne s’opposant pas à l’utilisation de ses données\\n\\n(b) De 01/07/2011 à 15/09/21']\n",
      "-------\n",
      "['Taille de la population et représentativité', '16 patients']\n",
      "-------\n",
      "['Historique des données demandées\\n (période d’extraction2)', 'De 01/07/2011 à 29/03/24                     ']\n",
      "-------\n",
      "['Principales variables et variables d’appariement le cas échéant', 'Les principales variables sont les suivantes\\xa0: \\nLe type de traumatisme\\nLa prise de stéroïdes\\nLe type d’emploi (avant et après chirurgie)\\nLe score SSV après chirurgie\\nLe sport pratiqué et le niveau de pratique (avant et après chirurgie)\\nLa mobilité\\nLe résultat du test de palpation du tendon grand pectoral\\nLa force et la perte de force\\nLa satisfaction du patient\\nLe score ASES\\nLe score BAK\\nLe score auto-constant\\nLes complications\\nLe recours à une nouvelle opération\\nL’activité quotidienne\\n\\nIl n’y a pas d’appariement prévu pour cette étude']\n",
      "-------\n",
      "['Méthode et analyse des données', 'Les critères répondants aux objectifs seront analysés de la manière suivante\\xa0: \\nLes variables qualitatives seront décrites par le nombre de valeurs observées, les fréquences absolues et relatives pour chaque classe et le nombre de données manquantes. Sauf mention contraire, les patients avec des données manquantes ne seront pas inclus dans le calcul des pourcentages.\\nLes variables quantitatives seront décrites par le nombre de valeurs observées, la moyenne, l’écart-type, la médiane, les 1er et 3ème quartiles, les valeurs extrêmes (minimum et maximum) et le nombre de données manquantes.\\n']\n",
      "-------\n",
      "['Calendrier prévisionnel et faisabilité\\n', 'Le calendrier prévisionnel est le suivant\\xa0: \\nDébut de l’étude\\xa0: 01/06/24\\nFin de l’étude\\xa0: 30/06/24']\n",
      "-------\n",
      "['Durée d’accès aux données', 'En année :        1         an(s)']\n",
      "-------\n",
      "['PROTECTION DE LA VIE PRIVÉE, SÉCURITÉ ET CONFIDENTIALITÉ DES DONNÉES', 'PROTECTION DE LA VIE PRIVÉE, SÉCURITÉ ET CONFIDENTIALITÉ DES DONNÉES']\n",
      "-------\n",
      "['Information des patients et protection des droits', '  Information individuelle des patients, des usagers, …\\n☐   Information collective\\n☐   Demande de dérogation à l’information individuelle des personnes']\n",
      "-------\n",
      "['Lieux d’hébergement des données dans le cadre du projet', 'Serveur HDS']\n",
      "-------\n",
      "['Durée de conservation', 'en année:           2             an(s)']\n",
      "-------\n",
      "['Circuit des données en cas d’appariement', 'NA']\n",
      "-------\n"
     ]
    }
   ],
   "source": [
    "for para in tables_text:\n",
    "    print(para)\n",
    "    print(\"-------\")"
   ]
  },
  {
   "cell_type": "code",
   "execution_count": 23,
   "id": "cb1da162",
   "metadata": {
    "execution": {
     "iopub.execute_input": "2024-07-24T22:34:20.100922Z",
     "iopub.status.busy": "2024-07-24T22:34:20.100134Z",
     "iopub.status.idle": "2024-07-24T22:34:20.120705Z",
     "shell.execute_reply": "2024-07-24T22:34:20.119514Z"
    },
    "papermill": {
     "duration": 0.034298,
     "end_time": "2024-07-24T22:34:20.123204",
     "exception": false,
     "start_time": "2024-07-24T22:34:20.088906",
     "status": "completed"
    },
    "tags": []
   },
   "outputs": [
    {
     "name": "stdout",
     "output_type": "stream",
     "text": [
      "\n",
      "\n",
      "\n"
     ]
    }
   ],
   "source": [
    "from docx import Document\n",
    "def read_docx(file_path):\n",
    "    doc = Document(file_path)\n",
    "    fullText = []\n",
    "    for para in doc.paragraphs:\n",
    "        fullText.append(para.text)\n",
    "    return '\\n'.join(fullText)\n",
    "  \n",
    "print(read_docx('/kaggle/input/synopsis-1/2024.06.24_Synopsis_GODENECHE_Format_HDH_VF.docx'))"
   ]
  },
  {
   "cell_type": "code",
   "execution_count": null,
   "id": "d54ef28e",
   "metadata": {
    "papermill": {
     "duration": 0.009506,
     "end_time": "2024-07-24T22:34:20.142836",
     "exception": false,
     "start_time": "2024-07-24T22:34:20.133330",
     "status": "completed"
    },
    "tags": []
   },
   "outputs": [],
   "source": []
  }
 ],
 "metadata": {
  "kaggle": {
   "accelerator": "none",
   "dataSources": [
    {
     "datasetId": 5368572,
     "sourceId": 8925104,
     "sourceType": "datasetVersion"
    },
    {
     "datasetId": 5368732,
     "sourceId": 8925347,
     "sourceType": "datasetVersion"
    },
    {
     "datasetId": 5400794,
     "sourceId": 8970947,
     "sourceType": "datasetVersion"
    },
    {
     "datasetId": 5406624,
     "sourceId": 8978889,
     "sourceType": "datasetVersion"
    },
    {
     "datasetId": 5406638,
     "sourceId": 8978905,
     "sourceType": "datasetVersion"
    },
    {
     "datasetId": 5417372,
     "sourceId": 8993949,
     "sourceType": "datasetVersion"
    },
    {
     "datasetId": 5441185,
     "sourceId": 9027995,
     "sourceType": "datasetVersion"
    }
   ],
   "dockerImageVersionId": 30732,
   "isGpuEnabled": false,
   "isInternetEnabled": true,
   "language": "python",
   "sourceType": "notebook"
  },
  "kernelspec": {
   "display_name": "Python 3",
   "language": "python",
   "name": "python3"
  },
  "language_info": {
   "codemirror_mode": {
    "name": "ipython",
    "version": 3
   },
   "file_extension": ".py",
   "mimetype": "text/x-python",
   "name": "python",
   "nbconvert_exporter": "python",
   "pygments_lexer": "ipython3",
   "version": "3.10.13"
  },
  "papermill": {
   "default_parameters": {},
   "duration": 35.530273,
   "end_time": "2024-07-24T22:34:20.774511",
   "environment_variables": {},
   "exception": null,
   "input_path": "__notebook__.ipynb",
   "output_path": "__notebook__.ipynb",
   "parameters": {},
   "start_time": "2024-07-24T22:33:45.244238",
   "version": "2.5.0"
  }
 },
 "nbformat": 4,
 "nbformat_minor": 5
}
